{
 "cells": [
  {
   "cell_type": "code",
   "execution_count": 1,
   "id": "34365139-3304-401e-b909-ae5f2bd23be9",
   "metadata": {},
   "outputs": [
    {
     "name": "stdout",
     "output_type": "stream",
     "text": [
      "False\n"
     ]
    }
   ],
   "source": [
    "x = 5\n",
    "y = 10 \n",
    "print(x>y)"
   ]
  },
  {
   "cell_type": "code",
   "execution_count": 2,
   "id": "241b167d-20d9-4a17-aa79-8339aaa55b4f",
   "metadata": {},
   "outputs": [
    {
     "name": "stdout",
     "output_type": "stream",
     "text": [
      "yes\n"
     ]
    }
   ],
   "source": [
    "x = 5\n",
    "y = 6\n",
    "if x < y:\n",
    "    print(\"yes\")\n",
    "else:\n",
    "    print(\"no\")"
   ]
  },
  {
   "cell_type": "code",
   "execution_count": 3,
   "id": "1f342c42-978c-4b3c-ab87-8615749abbfb",
   "metadata": {},
   "outputs": [
    {
     "name": "stdout",
     "output_type": "stream",
     "text": [
      "True\n",
      "False\n"
     ]
    }
   ],
   "source": [
    "print(bool(\"hello\"))\n",
    "print(bool())"
   ]
  },
  {
   "cell_type": "code",
   "execution_count": 4,
   "id": "14b63957-8095-4d8a-8270-24d8660a3290",
   "metadata": {},
   "outputs": [
    {
     "data": {
      "text/plain": [
       "True"
      ]
     },
     "execution_count": 4,
     "metadata": {},
     "output_type": "execute_result"
    }
   ],
   "source": [
    "def myfunc():\n",
    "    return True\n",
    "myfunc()    "
   ]
  },
  {
   "cell_type": "code",
   "execution_count": 5,
   "id": "87184d85-edb9-41c8-8a5b-3c0d733d280e",
   "metadata": {},
   "outputs": [
    {
     "name": "stdout",
     "output_type": "stream",
     "text": [
      "yes\n"
     ]
    }
   ],
   "source": [
    "def myfuncc():\n",
    "    return True\n",
    "if myfuncc():\n",
    "        print(\"yes\")\n",
    "else:\n",
    "     print(\"no\")\n",
    "        "
   ]
  },
  {
   "cell_type": "code",
   "execution_count": 6,
   "id": "1ae9035b-accd-4248-b044-5157345a8e5b",
   "metadata": {},
   "outputs": [
    {
     "name": "stdout",
     "output_type": "stream",
     "text": [
      "True\n",
      "True\n",
      "True\n"
     ]
    }
   ],
   "source": [
    " x = 33.33\n",
    "y = \"hello\"\n",
    "z = 3\n",
    "print(isinstance(x,float))\n",
    "print(isinstance(y,str))\n",
    "print(isinstance(z,int))"
   ]
  },
  {
   "cell_type": "code",
   "execution_count": 7,
   "id": "7f0b54f5-14d4-4728-937c-09cb96aba6e6",
   "metadata": {},
   "outputs": [
    {
     "name": "stdout",
     "output_type": "stream",
     "text": [
      "3\n"
     ]
    }
   ],
   "source": [
    " x = 5\n",
    " x -=2\n",
    " print(x)"
   ]
  },
  {
   "cell_type": "code",
   "execution_count": 8,
   "id": "5b6c9050-b491-4acd-9a2a-9297017815b1",
   "metadata": {},
   "outputs": [
    {
     "name": "stdout",
     "output_type": "stream",
     "text": [
      "1\n"
     ]
    }
   ],
   "source": [
    "x = 5\n",
    "x >>= 2\n",
    "print(x)"
   ]
  },
  {
   "cell_type": "code",
   "execution_count": 9,
   "id": "4d19956b-013d-4946-b5cf-3b481dae1ca8",
   "metadata": {},
   "outputs": [
    {
     "name": "stdout",
     "output_type": "stream",
     "text": [
      "hello world\n",
      "hello world\n"
     ]
    }
   ],
   "source": [
    "print(x:=\"hello world\")\n",
    "print(x)"
   ]
  },
  {
   "cell_type": "code",
   "execution_count": 10,
   "id": "7bbf1e8d-b3f8-4db4-9cda-aeb719f529b4",
   "metadata": {},
   "outputs": [
    {
     "name": "stdout",
     "output_type": "stream",
     "text": [
      "yes\n"
     ]
    }
   ],
   "source": [
    " x = 11\n",
    " y = 33\n",
    " if not x>y:\n",
    "     print(\"yes\")\n",
    " else:\n",
    "     print(\"no\")\n",
    "     "
   ]
  },
  {
   "cell_type": "code",
   "execution_count": 11,
   "id": "063df795-4dc7-4204-8311-a2ae67664a04",
   "metadata": {},
   "outputs": [
    {
     "name": "stdout",
     "output_type": "stream",
     "text": [
      "True\n"
     ]
    }
   ],
   "source": [
    "x =  5 \n",
    "y = 10 \n",
    "print(x is not y)"
   ]
  },
  {
   "cell_type": "code",
   "execution_count": 12,
   "id": "bc1ff77a-bc5b-4578-af59-ca8fbea39f0d",
   "metadata": {},
   "outputs": [
    {
     "name": "stdout",
     "output_type": "stream",
     "text": [
      "-4\n"
     ]
    }
   ],
   "source": [
    "print(~3)"
   ]
  },
  {
   "cell_type": "code",
   "execution_count": 13,
   "id": "28a7d525-5e28-4a1b-9fc7-5bcd33c8f50f",
   "metadata": {},
   "outputs": [
    {
     "name": "stdout",
     "output_type": "stream",
     "text": [
      "0\n"
     ]
    }
   ],
   "source": [
    "x = 5 \n",
    "print(x>>3)"
   ]
  },
  {
   "cell_type": "code",
   "execution_count": 14,
   "id": "9abd7883-3862-40a2-9b22-85b2a2ad4384",
   "metadata": {},
   "outputs": [
    {
     "name": "stdout",
     "output_type": "stream",
     "text": [
      "11.0\n"
     ]
    }
   ],
   "source": [
    "x = 5 \n",
    "y = 3\n",
    "print((x*y)-(y+x)//(x/y))"
   ]
  },
  {
   "cell_type": "code",
   "execution_count": 15,
   "id": "d4c1584f-ab0e-4085-a098-939857fdefdd",
   "metadata": {},
   "outputs": [
    {
     "name": "stdout",
     "output_type": "stream",
     "text": [
      "['mango', 'orange']\n"
     ]
    }
   ],
   "source": [
    "x = [\"apple\",\"mango\",\"orange\"]\n",
    "print(x[1:])"
   ]
  },
  {
   "cell_type": "code",
   "execution_count": 16,
   "id": "7eaa7f0b-6b80-493a-8a96-bebb64aa593a",
   "metadata": {},
   "outputs": [
    {
     "name": "stdout",
     "output_type": "stream",
     "text": [
      "['apple', 'mango', 'kiwi', 'lemon']\n"
     ]
    }
   ],
   "source": [
    "x = [\"apple\",\"mango\",\"orange\",\"lemon\"]\n",
    "x[2]=\"kiwi\"\n",
    "print(x)"
   ]
  },
  {
   "cell_type": "code",
   "execution_count": 17,
   "id": "3ab947dc-9c32-4507-a680-1e8fe5ddc37a",
   "metadata": {},
   "outputs": [
    {
     "name": "stdout",
     "output_type": "stream",
     "text": [
      "['apple', 'lemon', 'orange', 'kiwi']\n"
     ]
    }
   ],
   "source": [
    "x = [\"apple\",\"orange\",\"kiwi\"]\n",
    "x.insert(1,\"lemon\")\n",
    "print(x)\n"
   ]
  },
  {
   "cell_type": "code",
   "execution_count": 18,
   "id": "add150a1-c7f6-4527-ab65-ae490ce497a8",
   "metadata": {},
   "outputs": [
    {
     "name": "stdout",
     "output_type": "stream",
     "text": [
      "['apple', 'mango', 'orange', 'kiwi', 'watermelon']\n",
      "['apple', 'mango', 'orange', 'kiwi', 'watermelon', 'lemon', 'melon', 'banana']\n",
      "None\n",
      "['apple', 'mango', 'pomagranate', 'orange', 'kiwi', 'watermelon', 'lemon', 'melon', 'banana']\n"
     ]
    }
   ],
   "source": [
    "x = [\"apple\",\"mango\",\"orange\",\"kiwi\"]\n",
    "y = [\"lemon\",\"melon\",\"banana\"]\n",
    "x.append(\"watermelon\")\n",
    "print(x)\n",
    "x.extend(y)\n",
    "print(x)\n",
    "print(x.insert(2,\"pomagranate\"))\n",
    "print(x)"
   ]
  },
  {
   "cell_type": "code",
   "execution_count": 19,
   "id": "2ee3ed43-ff9e-4944-81df-494014df0516",
   "metadata": {},
   "outputs": [
    {
     "name": "stdout",
     "output_type": "stream",
     "text": [
      "None\n",
      "['apple', 'kiwi', 'kiwi']\n",
      "['apple', 'kiwi', 'kiwi']\n"
     ]
    }
   ],
   "source": [
    " x = [\"apple\",\"mango\",\"kiwi\"]\n",
    " x.remove(x[1])\n",
    " print(x.append(\"kiwi\"))\n",
    "print(x)\n",
    " print(x)"
   ]
  },
  {
   "cell_type": "code",
   "execution_count": 20,
   "id": "b522b4ee-9cdd-411e-8fae-43cc54464e4a",
   "metadata": {},
   "outputs": [
    {
     "ename": "NameError",
     "evalue": "name 'x' is not defined",
     "output_type": "error",
     "traceback": [
      "\u001b[1;31m---------------------------------------------------------------------------\u001b[0m",
      "\u001b[1;31mNameError\u001b[0m                                 Traceback (most recent call last)",
      "Cell \u001b[1;32mIn[20], line 3\u001b[0m\n\u001b[0;32m      1\u001b[0m x \u001b[38;5;241m=\u001b[39m[\u001b[38;5;124m\"\u001b[39m\u001b[38;5;124mapple\u001b[39m\u001b[38;5;124m\"\u001b[39m]\n\u001b[0;32m      2\u001b[0m \u001b[38;5;28;01mdel\u001b[39;00m x\n\u001b[1;32m----> 3\u001b[0m \u001b[38;5;28mprint\u001b[39m(x)\n",
      "\u001b[1;31mNameError\u001b[0m: name 'x' is not defined"
     ]
    }
   ],
   "source": [
    "x =[\"apple\"]\n",
    "del x\n",
    "print(x)"
   ]
  },
  {
   "cell_type": "code",
   "execution_count": null,
   "id": "08d439ff-20c2-48e6-8126-4a5feab97f53",
   "metadata": {},
   "outputs": [],
   "source": [
    "x = [\"apple\"]\n",
    "x.clear()\n",
    "print(x)"
   ]
  },
  {
   "cell_type": "code",
   "execution_count": null,
   "id": "282f23fa-2cca-4544-b3d4-26a0ae150a54",
   "metadata": {},
   "outputs": [],
   "source": [
    "x = [\"apple\",\"banana\",\"kiwi\",\"lemon\"]\n",
    "for fruits in x:\n",
    "    print(x)\n",
    "    print(fruits)"
   ]
  },
  {
   "cell_type": "code",
   "execution_count": null,
   "id": "03de76d7-6e6a-4954-a3b4-8afbba2840e4",
   "metadata": {},
   "outputs": [],
   "source": [
    "x = [\"apple\",\"banana\"]\n",
    "for i in x:\n",
    "    print(i)"
   ]
  },
  {
   "cell_type": "code",
   "execution_count": null,
   "id": "334ff792-dfc1-4e36-aaa6-9a922bc22737",
   "metadata": {},
   "outputs": [],
   "source": [
    "x =[\"apple\",\"orange\",\"kiwi\",\"lemon\"]\n",
    "for i in range(len(x)):\n",
    " print(x[i])"
   ]
  },
  {
   "cell_type": "code",
   "execution_count": null,
   "id": "52a372f2-705f-4676-9596-8accfcbedd55",
   "metadata": {},
   "outputs": [],
   "source": [
    "x = [\"apple\",\"banana\",\"kiwi\",\"lemon\",\"melon\"]\n",
    "i = 1\n",
    "while i < len(x):\n",
    "    print(x[i])\n",
    "    i =i+1\n",
    "    \n"
   ]
  },
  {
   "cell_type": "code",
   "execution_count": null,
   "id": "31a30a63-51b4-4174-83e0-845cd118d3c8",
   "metadata": {},
   "outputs": [],
   "source": [
    "x =[\"apple\",\"kiwi\"]\n",
    "[print(i) for i in x]"
   ]
  },
  {
   "cell_type": "code",
   "execution_count": null,
   "id": "f21854d5-7163-42ab-8f0a-625e2a5634da",
   "metadata": {},
   "outputs": [],
   "source": [
    "x = [\"apple\",\"banana\",\"kiwi\",\"lemon\"]\n",
    "y = []\n",
    "for z in x:\n",
    " if \"a\" in z:\n",
    "  y.append(z)\n",
    "print(y)"
   ]
  },
  {
   "cell_type": "code",
   "execution_count": null,
   "id": "6789879e-eb4a-4a8e-875d-90e89519640d",
   "metadata": {},
   "outputs": [],
   "source": [
    "x = [\"apple\",\"banana\",\"mango\"]\n",
    "y =[]\n",
    "for z in x:\n",
    " if \"e\" in z:\n",
    "  y.append(z)\n",
    "print(y)"
   ]
  },
  {
   "cell_type": "code",
   "execution_count": null,
   "id": "5e20d7c9-2899-4e70-973b-83cccc8ee708",
   "metadata": {},
   "outputs": [],
   "source": [
    "x = [\"apple\",\"mango\",\"orange\"]\n",
    "y = [z for z in x if \"o\" in z]\n",
    "print(y)"
   ]
  },
  {
   "cell_type": "code",
   "execution_count": null,
   "id": "e623d46b-ab11-46f4-b449-d4f037c55a8d",
   "metadata": {},
   "outputs": [],
   "source": [
    "x = [x for x in range(11) if x >5]\n",
    "print(x)"
   ]
  },
  {
   "cell_type": "code",
   "execution_count": null,
   "id": "77dafb87-1153-4530-bf5a-ad2f8b36ab35",
   "metadata": {},
   "outputs": [],
   "source": [
    "x = [\"apple\",\"kiwi\",\"orange\"]\n",
    "y = [z.upper() for z in x if \"a\" in z]\n",
    "print(y)"
   ]
  },
  {
   "cell_type": "code",
   "execution_count": null,
   "id": "74c8fcab-a104-4bfb-8a50-319a5ee0d5f7",
   "metadata": {},
   "outputs": [],
   "source": [
    "x = [\"apple\",\"mango\",\"banana\"]\n",
    "y = [\"hello\" for z in x]\n",
    "print(y)"
   ]
  },
  {
   "cell_type": "code",
   "execution_count": null,
   "id": "294968fd-ebe0-4609-9ba9-9d026b2f66ad",
   "metadata": {},
   "outputs": [],
   "source": [
    "x = [ \" this is a sentence\"]\n",
    "y = [z if z!= \"is\" else \"was\" for z in x ]\n",
    "print(y)"
   ]
  },
  {
   "cell_type": "code",
   "execution_count": null,
   "id": "3eb09f94-a197-4615-8bbc-19b23fb7cc3c",
   "metadata": {},
   "outputs": [],
   "source": [
    "x = [\"apple\",\"banana\",\"mango\",\"kiwi\"]\n",
    "y = [z if z!=\"orange\" else\"lemon\" for z in x]\n",
    "print(y)"
   ]
  },
  {
   "cell_type": "code",
   "execution_count": null,
   "id": "c87bb1de-a37e-43c7-b722-54eac34904d4",
   "metadata": {},
   "outputs": [],
   "source": [
    "x = [\"a\",\"z\",\"w\",\"l\"]\n",
    "x.sort()\n",
    "x.sort(reverse=True)\n",
    "print(x)"
   ]
  },
  {
   "cell_type": "code",
   "execution_count": null,
   "id": "6c05aec6-2361-4a8e-be6f-3f5283d29f9b",
   "metadata": {},
   "outputs": [],
   "source": [
    "def myfunc(n):\n",
    "  return abs(n - 50)\n",
    "x =[100,50,65,82,23]\n",
    "x.sort(key = myfunc)\n",
    "print(x)"
   ]
  },
  {
   "cell_type": "code",
   "execution_count": null,
   "id": "92c07eac-7235-4af7-821e-6089162aef4d",
   "metadata": {},
   "outputs": [],
   "source": [
    "x = [\"apple\",\"Kiwi\",\"banana\"]\n",
    "x.sort(key = str.lower)\n",
    "\n",
    "x.sort()\n",
    "x.reverse()\n",
    "print(x)"
   ]
  },
  {
   "cell_type": "code",
   "execution_count": null,
   "id": "4a666460-f1e7-4565-9ced-e3ada4d932ee",
   "metadata": {},
   "outputs": [],
   "source": [
    "x = [\"apple\",\"mango\",\"kiwi\"]\n",
    "y = x.copy()\n",
    "z = list(x)\n",
    "c = x[:]\n",
    "print(y)\n",
    "print(z)\n",
    "print(c)"
   ]
  },
  {
   "cell_type": "code",
   "execution_count": null,
   "id": "744e383f-3601-43bc-901c-68f4351af730",
   "metadata": {},
   "outputs": [],
   "source": [
    "x = [\"a\",\"b\",\"c\"]\n",
    "y = [1,2,3]\n",
    "for z in y:\n",
    "    x.append(z)\n",
    "print(x)"
   ]
  },
  {
   "cell_type": "code",
   "execution_count": null,
   "id": "edb7c82a-d37e-4d9f-99a1-3d13a59be858",
   "metadata": {},
   "outputs": [],
   "source": [
    " x = (\"apple\",)\n",
    " y = (\"apple\")\n",
    "print(type(x))\n",
    "print(type(y))\n",
    "print(len(x))"
   ]
  },
  {
   "cell_type": "code",
   "execution_count": null,
   "id": "eb3681ac-abee-494f-9d55-3fad910722e8",
   "metadata": {},
   "outputs": [],
   "source": [
    "x = (\"apple\",\"orange\",\"kiwi\")\n",
    "print(x[0])\n",
    "y = x[1]\n",
    "print(y)"
   ]
  },
  {
   "cell_type": "code",
   "execution_count": null,
   "id": "f6191d58-ed1b-4992-8042-ad51df9f84c2",
   "metadata": {},
   "outputs": [],
   "source": [
    "x = (\"apple\",\"mango\",\"kiwi\",\"lemon\")\n",
    "y = list(x)\n",
    "y[0]=\"melon\"\n",
    "print(y)\n",
    "y = tuple(y)\n",
    "print(y)"
   ]
  },
  {
   "cell_type": "code",
   "execution_count": null,
   "id": "1f490461-766b-4e45-96ea-44257ef0301c",
   "metadata": {},
   "outputs": [],
   "source": [
    "x = (\"apple\",\"mango\",\"kiwi\")\n",
    "y = list(x)\n",
    "y[1]= \"lemon\"\n",
    "x = tuple(y)\n",
    "print(x)"
   ]
  },
  {
   "cell_type": "code",
   "execution_count": null,
   "id": "b964e710-c2b3-42a4-bcd4-6d26522138bb",
   "metadata": {},
   "outputs": [],
   "source": [
    "x = (\"apple\",\"mango\",\"banana\",\"kiwi\")\n",
    "y = (\"lemon\",)\n",
    "print(x+y)"
   ]
  },
  {
   "cell_type": "code",
   "execution_count": null,
   "id": "8601c023-b2ed-4905-a325-1987e93a31e1",
   "metadata": {},
   "outputs": [],
   "source": [
    "x = (\"apple\",\"mango\",\"kiwi\",\"banana\")\n",
    "y = list(x)\n",
    "y.append(\"melon\")\n",
    "x = tuple(y)\n",
    "print(x)"
   ]
  },
  {
   "cell_type": "code",
   "execution_count": null,
   "id": "ad746af3-e080-4c3f-bd0c-4f3fd62d55bf",
   "metadata": {},
   "outputs": [],
   "source": [
    "x = (\"apple\",)\n",
    "y = (\"mango\",\"kiwi\")\n",
    "x += y\n",
    "print(x)"
   ]
  },
  {
   "cell_type": "code",
   "execution_count": null,
   "id": "193c15ca-9791-4249-bd42-b4263f73691f",
   "metadata": {},
   "outputs": [],
   "source": [
    "x = (\"apple\",\"kiwi\",\"lemon\")\n",
    "y = list(x)\n",
    "y.remove(\"apple\")\n",
    "x =tuple(y)\n",
    "print(x)"
   ]
  },
  {
   "cell_type": "code",
   "execution_count": null,
   "id": "3a10c9a0-2f1c-456a-a492-f6000d3aab95",
   "metadata": {},
   "outputs": [],
   "source": [
    "x =(\"apple\",\"kiwi\")\n",
    "(mango,lemon) = x\n",
    "print(mango)\n",
    "print(lemon)\n"
   ]
  },
  {
   "cell_type": "code",
   "execution_count": 34,
   "id": "fbf8e563-c173-432d-abc0-dc25f698dfe8",
   "metadata": {},
   "outputs": [
    {
     "name": "stdout",
     "output_type": "stream",
     "text": [
      "apple\n",
      "mango\n",
      "['kiwi', 'lemon']\n"
     ]
    }
   ],
   "source": [
    "x = (\"apple\",\"mango\",\"kiwi\",\"lemon\")\n",
    "(a,b,*c) = x\n",
    "print(a)\n",
    "print(b)\n",
    "print(c)"
   ]
  },
  {
   "cell_type": "code",
   "execution_count": 32,
   "id": "620d0f34-d324-4dd8-9cd7-fc11b181a2ba",
   "metadata": {},
   "outputs": [
    {
     "name": "stdout",
     "output_type": "stream",
     "text": [
      "apple\n",
      "mango\n",
      "kiwi\n"
     ]
    }
   ],
   "source": [
    "x = (\"apple\",\"mango\",\"kiwi\")\n",
    "for i in x :\n",
    "    print(i)"
   ]
  },
  {
   "cell_type": "code",
   "execution_count": 30,
   "id": "6338df04-2074-49e6-8746-025a01d400e7",
   "metadata": {},
   "outputs": [
    {
     "name": "stdout",
     "output_type": "stream",
     "text": [
      "apple\n",
      "kiwi\n",
      "mango\n"
     ]
    }
   ],
   "source": [
    "x = (\"apple\",\"kiwi\",\"mango\")\n",
    "i = 0\n",
    "while i < len(x):\n",
    "  print(x[i])\n",
    "  i = i + 1"
   ]
  },
  {
   "cell_type": "code",
   "execution_count": 38,
   "id": "98cfbf96-1fa0-4290-84f7-c560d012a2c4",
   "metadata": {},
   "outputs": [
    {
     "name": "stdout",
     "output_type": "stream",
     "text": [
      "('apple', 'mango', 'kiwi', 'lemon', 'melon')\n",
      "('apple', 'mango', 'kiwi', 'lemon', 'apple', 'mango', 'kiwi', 'lemon', 'apple', 'mango', 'kiwi', 'lemon')\n"
     ]
    }
   ],
   "source": [
    "x = (\"apple\",\"mango\",\"kiwi\",\"lemon\")\n",
    "y = (\"melon\",)\n",
    "z = x + y\n",
    "print(z)\n",
    "print(x*3)"
   ]
  },
  {
   "cell_type": "code",
   "execution_count": 40,
   "id": "884069dd-2caa-45c3-b120-d891dd00fb5f",
   "metadata": {},
   "outputs": [
    {
     "name": "stdout",
     "output_type": "stream",
     "text": [
      "apple\n",
      "kiwi\n",
      "lemon\n"
     ]
    }
   ],
   "source": [
    "x = {\"apple\",\"kiwi\",\"lemon\"}\n",
    "for i in x :\n",
    "    print(i)"
   ]
  },
  {
   "cell_type": "code",
   "execution_count": 42,
   "id": "10cab367-cbbb-4105-8438-f2eef65c1f07",
   "metadata": {},
   "outputs": [
    {
     "name": "stdout",
     "output_type": "stream",
     "text": [
      "yes\n"
     ]
    }
   ],
   "source": [
    "x = {\"apple\",\"banana\",\"kiwi\"}\n",
    "if \"apple\" in x:\n",
    "    print(\"yes\")"
   ]
  },
  {
   "cell_type": "code",
   "execution_count": 46,
   "id": "47cdc450-07b6-4125-9d12-21e8a415be68",
   "metadata": {},
   "outputs": [
    {
     "name": "stdout",
     "output_type": "stream",
     "text": [
      "True\n"
     ]
    }
   ],
   "source": [
    "x = {\"apple\",\"lemon\",\"kiwi\"}\n",
    "print(\"kiwi\" in x )"
   ]
  },
  {
   "cell_type": "code",
   "execution_count": 48,
   "id": "2d3d3f37-e33b-4f2a-9581-dc8871be23ef",
   "metadata": {},
   "outputs": [
    {
     "name": "stdout",
     "output_type": "stream",
     "text": [
      "{'kiwi', 'lemon', 'banana'}\n"
     ]
    }
   ],
   "source": [
    "x = {\"apple\",\"banana\",\"kiwi\"}\n",
    "y = list(x)\n",
    "y[0]=\"lemon\"\n",
    "x = set(y)\n",
    "print(x)"
   ]
  },
  {
   "cell_type": "code",
   "execution_count": 50,
   "id": "05727628-3623-40a3-9ea0-e2e0c0d98132",
   "metadata": {},
   "outputs": [
    {
     "name": "stdout",
     "output_type": "stream",
     "text": [
      "{'apple', 'melon', 'lemon', 'banana'}\n"
     ]
    }
   ],
   "source": [
    "x = {\"apple\",\"banana\",\"lemon\"}\n",
    "x.add(\"melon\")\n",
    "print(x)\n",
    "\n"
   ]
  },
  {
   "cell_type": "code",
   "execution_count": 52,
   "id": "824f4681-a6e4-4a25-b064-83d3a7dae6f6",
   "metadata": {},
   "outputs": [
    {
     "name": "stdout",
     "output_type": "stream",
     "text": [
      "{'apple', 'kiwi', 'melon', 'lemon'}\n"
     ]
    }
   ],
   "source": [
    "x = {\"apple\",\"lemon\",\"melon\"}\n",
    "y = { \"kiwi\"}\n",
    "x.update(y)\n",
    "print(x)"
   ]
  },
  {
   "cell_type": "code",
   "execution_count": 68,
   "id": "88ed46e4-7ec9-444a-93d6-2e1093c076ac",
   "metadata": {},
   "outputs": [
    {
     "name": "stdout",
     "output_type": "stream",
     "text": [
      "{'kiwi', 'mango'}\n",
      "set()\n"
     ]
    }
   ],
   "source": [
    "x = {\"apple\",\"banana\",\"mango\",\"kiwi\"}\n",
    "x .remove(\"banana\")\n",
    "x.discard(\"apple\")\n",
    "print(x)\n",
    "x.clear()\n",
    "print(x)"
   ]
  },
  {
   "cell_type": "code",
   "execution_count": 74,
   "id": "39bb0e67-3cfb-499e-bc84-f9e15b85bb6d",
   "metadata": {},
   "outputs": [
    {
     "name": "stdout",
     "output_type": "stream",
     "text": [
      "apple\n",
      "kiwi\n",
      "banana\n",
      "mango\n"
     ]
    }
   ],
   "source": [
    "x = {\"apple\",\"banana\",\"mango\",\"kiwi\"}\n",
    "for i in x:\n",
    "  print(i)"
   ]
  },
  {
   "cell_type": "code",
   "execution_count": 84,
   "id": "c0a70ef8-7695-46b9-8eaf-841211882ba5",
   "metadata": {},
   "outputs": [
    {
     "name": "stdout",
     "output_type": "stream",
     "text": [
      "{'kiwi', 'melon', 'apple', 'lemon', 'banana', 'mango'}\n",
      "{'apple'}\n",
      "{'kiwi', 'banana', 'mango'}\n",
      "{'kiwi', 'banana', 'melon', 'lemon', 'mango'}\n"
     ]
    }
   ],
   "source": [
    "x = {\"apple\",\"mango\",\"banana\",\"kiwi\"}\n",
    "y = {\"apple\",\"lemon\",\"melon\"}\n",
    "z = x.union(y)\n",
    "print(z)\n",
    "a =x.intersection(y)\n",
    "print(a)\n",
    "b =x.difference(y)\n",
    "print(b)\n",
    "c =x.symmetric_difference(y)\n",
    "print(c)\n"
   ]
  },
  {
   "cell_type": "code",
   "execution_count": 86,
   "id": "73d30547-8e37-4992-9743-4e8f152cda62",
   "metadata": {},
   "outputs": [
    {
     "name": "stdout",
     "output_type": "stream",
     "text": [
      "{'name': 'dharun', 'age': 19}\n"
     ]
    }
   ],
   "source": [
    "x = {\"name\":\"dharun\",\"age\":19}\n",
    "print(x)"
   ]
  },
  {
   "cell_type": "code",
   "execution_count": 94,
   "id": "29901ae3-a833-4eb5-a2c5-4e5cafb1a7c3",
   "metadata": {},
   "outputs": [
    {
     "name": "stdout",
     "output_type": "stream",
     "text": [
      "dharun\n",
      "20\n"
     ]
    }
   ],
   "source": [
    "x = {\"name\":\"dharun\",\"age\":20}\n",
    "y = x[\"name\"]\n",
    "z = x.get(\"age\")\n",
    "print(y)\n",
    "print(z)\n"
   ]
  },
  {
   "cell_type": "code",
   "execution_count": 102,
   "id": "b418e666-e1f3-4a00-9960-3c99b7559a25",
   "metadata": {},
   "outputs": [
    {
     "name": "stdout",
     "output_type": "stream",
     "text": [
      "{'name': 'dharun', 'age': 20, 'id': 'three'}\n",
      "dict_values(['dharun', 20, 'three'])\n",
      "dict_keys(['name', 'age', 'id'])\n",
      "dict_items([('name', 'dharun'), ('age', 20), ('id', 'three')])\n"
     ]
    }
   ],
   "source": [
    "x = {\"name\":\"dharun\",\"age\":20}\n",
    "x[\"id\"] =\"three\"\n",
    "print(x)\n",
    "print(x.values())\n",
    "print(x.keys())\n",
    "print(x.items())"
   ]
  },
  {
   "cell_type": "code",
   "execution_count": 118,
   "id": "4dfb3b69-8a4c-4658-a664-a5e9191c7a03",
   "metadata": {},
   "outputs": [
    {
     "name": "stdout",
     "output_type": "stream",
     "text": [
      "yes\n"
     ]
    }
   ],
   "source": [
    "x = {\"name\":\"dharun\",\"age\":19}\n",
    "if \"name\" in x:\n",
    "    print(\"yes\")"
   ]
  },
  {
   "cell_type": "code",
   "execution_count": 120,
   "id": "48da1d67-f984-4332-9714-9c1929e7f8aa",
   "metadata": {},
   "outputs": [
    {
     "name": "stdout",
     "output_type": "stream",
     "text": [
      "{'name': 'dharun', 'age': 20}\n"
     ]
    }
   ],
   "source": [
    "x = {\"name\":\"dharun\",\"age\":19}\n",
    "x[\"age\"]=20\n",
    "print(x)"
   ]
  },
  {
   "cell_type": "code",
   "execution_count": 130,
   "id": "b77744f4-e3aa-4cb8-b7df-338d9479f5e1",
   "metadata": {},
   "outputs": [
    {
     "name": "stdout",
     "output_type": "stream",
     "text": [
      "{'name': 'dharun', 'age': 19, 'id': 33}\n"
     ]
    }
   ],
   "source": [
    "x ={\"name\":\"dharun\",\"age\":19}\n",
    "x.update({\"id\":33})\n",
    "print(x)"
   ]
  },
  {
   "cell_type": "code",
   "execution_count": 132,
   "id": "d65082f6-45f6-4469-b6ea-a6eed1b0b84b",
   "metadata": {},
   "outputs": [
    {
     "name": "stdout",
     "output_type": "stream",
     "text": [
      "{'name': 'dharun'}\n"
     ]
    }
   ],
   "source": [
    "x = {\"name\":\"dharun\",\"age\":19}\n",
    "x.pop(\"age\")\n",
    "print(x)"
   ]
  },
  {
   "cell_type": "code",
   "execution_count": 144,
   "id": "58c40314-57ee-4fa7-993b-8b2f5973c0a7",
   "metadata": {},
   "outputs": [
    {
     "name": "stdout",
     "output_type": "stream",
     "text": [
      "name dharun\n",
      "age 19\n"
     ]
    }
   ],
   "source": [
    "x ={\"name\":\"dharun\",\"age\":19}\n",
    "for i,a in x.items():\n",
    " print(i,a)"
   ]
  },
  {
   "cell_type": "code",
   "execution_count": 148,
   "id": "555ab3ab-c717-48ec-b082-84ca71b5b791",
   "metadata": {},
   "outputs": [
    {
     "name": "stdout",
     "output_type": "stream",
     "text": [
      "{'name': 'dharun', 'age': 19}\n",
      "{'name': 'dharun', 'age': 19}\n"
     ]
    }
   ],
   "source": [
    "x = {\"name\":\"dharun\",\"age\":19}\n",
    "y = x.copy()\n",
    "z = dict(y)\n",
    "print(y)\n",
    "print(z)\n"
   ]
  },
  {
   "cell_type": "code",
   "execution_count": 162,
   "id": "101a1391-69b2-48c5-be6f-d7c47e5b8040",
   "metadata": {},
   "outputs": [
    {
     "name": "stdout",
     "output_type": "stream",
     "text": [
      "{'name': 'dharun'}\n"
     ]
    }
   ],
   "source": [
    "myfamily = {\n",
    "    \"child1\":{\n",
    "    \"name\":\"dharun\"\n",
    "}\n",
    "    ,\"child2\":{\n",
    "    \"name\":\"revanth\"\n",
    "}\n",
    "}\n",
    "print(myfamily[\"child1\"])\n",
    "\n",
    "    "
   ]
  },
  {
   "cell_type": "code",
   "execution_count": 176,
   "id": "9a124a7c-6bcc-4f24-8023-07f7b1269318",
   "metadata": {},
   "outputs": [
    {
     "name": "stdout",
     "output_type": "stream",
     "text": [
      "{'child1': {'name': 'dharun'}, 'child2': {'name': 'revanth'}}\n"
     ]
    }
   ],
   "source": [
    "child1={\n",
    "    \"name\":\"dharun\"}\n",
    "child2={\n",
    "    \"name\":\"revanth\"}\n",
    "myfamily ={\n",
    "    \"child1\":child1,\n",
    "    \"child2\":child2\n",
    "}\n",
    "print(myfamily)"
   ]
  },
  {
   "cell_type": "code",
   "execution_count": 194,
   "id": "7bca6fda-359d-473a-a42f-af9b892c22b5",
   "metadata": {},
   "outputs": [
    {
     "name": "stdout",
     "output_type": "stream",
     "text": [
      "child1\n",
      "name: dharun\n",
      "child2\n",
      "name: revanth\n"
     ]
    }
   ],
   "source": [
    "myfamily = {\n",
    "    \"child1\":{\n",
    "    \"name\":\"dharun\"\n",
    "},\n",
    "\"child2\":{\n",
    "\"name\":\"revanth\"\n",
    "}\n",
    "}\n",
    "for x,y in myfamily.items():\n",
    "    print(x)\n",
    "    for z in y:\n",
    "        print(z + \":\",y[z])\n",
    "   \n",
    "    \n",
    "    \n"
   ]
  },
  {
   "cell_type": "code",
   "execution_count": 208,
   "id": "5454d269-6116-4b5d-98db-23835cbd8228",
   "metadata": {},
   "outputs": [
    {
     "name": "stdout",
     "output_type": "stream",
     "text": [
      "dharun\n"
     ]
    }
   ],
   "source": [
    "x = {\"name\":\"dharun\",\"age\":19}\n",
    "y = x.setdefault(\"name\",\"revanth\")\n",
    "print(y)"
   ]
  },
  {
   "cell_type": "code",
   "execution_count": 218,
   "id": "76e39058-5a94-4df2-ac8f-ff5d235ac706",
   "metadata": {},
   "outputs": [
    {
     "name": "stdout",
     "output_type": "stream",
     "text": [
      "19\n"
     ]
    }
   ],
   "source": [
    "x = {\"name\":\"dharun\",\"age\":19,\"id\":33}\n",
    "y = x.setdefault(\"age\",\"tup\")\n",
    "print(y)\n",
    "\n"
   ]
  },
  {
   "cell_type": "code",
   "execution_count": null,
   "id": "32f11c81-4796-4d8d-9d3e-25f3a26a5e9a",
   "metadata": {},
   "outputs": [],
   "source": []
  }
 ],
 "metadata": {
  "kernelspec": {
   "display_name": "Python 3 (ipykernel)",
   "language": "python",
   "name": "python3"
  },
  "language_info": {
   "codemirror_mode": {
    "name": "ipython",
    "version": 3
   },
   "file_extension": ".py",
   "mimetype": "text/x-python",
   "name": "python",
   "nbconvert_exporter": "python",
   "pygments_lexer": "ipython3",
   "version": "3.12.4"
  }
 },
 "nbformat": 4,
 "nbformat_minor": 5
}
